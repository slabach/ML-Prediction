{
 "metadata": {
  "language_info": {
   "name": "python",
   "version": "3.8.0",
   "mimetype": "text/x-python",
   "codemirror_mode": {
    "name": "ipython",
    "version": 3
   },
   "pygments_lexer": "ipython3",
   "nbconvert_exporter": "python",
   "file_extension": ".py"
  },
  "orig_nbformat": 2,
  "kernelspec": {
   "name": "python3",
   "display_name": "Python 3.8.0 32-bit"
  },
  "interpreter": {
   "hash": "53a18d7535d738a8c53784bf3eded290d6f60d3d5931750418a7cff6088ed5e5"
  }
 },
 "nbformat": 4,
 "nbformat_minor": 2,
 "cells": [
  {
   "cell_type": "code",
   "execution_count": 27,
   "source": [
    "import math, datetime, json, requests\r\n",
    "import pandas as pd\r\n",
    "import sklearn\r\n",
    "from sklearn import svm, preprocessing\r\n",
    "from sklearn.linear_model import Ridge\r\n",
    "from sklearn.ensemble import RandomForestRegressor\r\n",
    "from sklearn.model_selection import train_test_split"
   ],
   "outputs": [],
   "metadata": {}
  },
  {
   "cell_type": "code",
   "execution_count": 28,
   "source": [
    "\r\n",
    "with open(\"config.json\", \"r\") as configfile:\r\n",
    "    config = json.load(configfile)\r\n",
    "\r\n",
    "api_key = config[\"pf-api-key\"]\r\n",
    "data_resp = requests.get('https://perfectfall.com/api/ml-data/', headers={'token': api_key}).text\r\n",
    "data_json = json.loads(data_resp)\r\n",
    "df = pd.DataFrame(data_json)\r\n",
    "\r\n",
    "df.drop_duplicates(subset=['game_id'], keep='last', inplace=True)"
   ],
   "outputs": [],
   "metadata": {}
  },
  {
   "cell_type": "code",
   "execution_count": 29,
   "source": [
    "X = df[['neutral_site','teamA_sval','teamA_off','teamA_scheme','teamB_sval','teamB_def','wind_speed','temperature','precipitation']]\r\n",
    "y = df['teamA_pts']\r\n",
    "\r\n",
    "X2 = df[['neutral_site','teamB_sval','teamB_off','teamB_scheme','teamA_sval','teamA_def','wind_speed','temperature','precipitation']]\r\n",
    "y2 = df['teamB_pts']\r\n",
    "\r\n",
    "\r\n",
    "Xf = df[['neutral_site','teamA_sval','teamA_off','teamA_scheme','teamA_def','teamB_sval','teamB_off','teamB_scheme','teamB_def','wind_speed','temperature','precipitation']]\r\n",
    "yf = df[['teamA_pts','teamB_pts']]\r\n",
    "\r\n",
    "X_train, X_test, y_train, y_test = train_test_split(X, y,random_state=64)\r\n",
    "X2_train, X2_test, y2_train, y2_test = train_test_split(X2, y2,random_state=64)\r\n",
    "Xf_train, Xf_test, yf_train, yf_test = train_test_split(Xf, yf, test_size=0.1, random_state=42)"
   ],
   "outputs": [],
   "metadata": {}
  },
  {
   "cell_type": "code",
   "execution_count": 30,
   "source": [
    "#train 3 models. Team A offense vs Team B defense\r\n",
    "model = Ridge(alpha = 1, fit_intercept = True)\r\n",
    "model.fit(X_train, y_train)\r\n",
    "yp = model.predict(X_test)\r\n",
    "\r\n",
    "model2 = Ridge(alpha = 1, fit_intercept = True)\r\n",
    "model2.fit(X2_train, y2_train)\r\n",
    "yp2 = model2.predict(X2_test)\r\n",
    "\r\n",
    "modelf = Ridge(alpha = 1, fit_intercept = True)\r\n",
    "modelf.fit(Xf_train, yf_train)\r\n",
    "ypf = modelf.predict(Xf_test)"
   ],
   "outputs": [],
   "metadata": {}
  },
  {
   "cell_type": "code",
   "execution_count": 31,
   "source": [
    "print(f'Model Score: {model.score(X_test,y_test)}')\r\n",
    "print(f'Model Score: {model2.score(X2_test,y2_test)}')\r\n",
    "\r\n",
    "print(f'Model Score: {modelf.score(Xf_test,yf_test)}')"
   ],
   "outputs": [
    {
     "output_type": "stream",
     "name": "stdout",
     "text": [
      "Model Score: 0.7007255743510125\n",
      "Model Score: 0.7617234980382508\n",
      "Model Score: 0.7485225299698816\n"
     ]
    }
   ],
   "metadata": {}
  },
  {
   "cell_type": "code",
   "execution_count": 32,
   "source": [
    "predict_num = 1\r\n",
    "\r\n",
    "a_ovr = 0.7894\r\n",
    "a_off = 0.8033\r\n",
    "a_def = 0.9260\t\r\n",
    "a_scheme = 1.283\r\n",
    "\r\n",
    "b_ovr = 0.6964\r\n",
    "b_off = 0.8719\t\r\n",
    "b_def = 0.8719\r\n",
    "b_scheme = 0.975\r\n",
    "\r\n",
    "model_A_predict = [0,a_ovr, a_off, a_scheme, b_ovr, b_def, 0, 75, 0]\r\n",
    "model_B_predict = [0,b_ovr, b_off, b_scheme, a_ovr, a_def, 0, 75, 0]\r\n",
    "modelf_predict = [0, a_ovr, a_off, a_scheme, a_def, b_ovr, b_off, b_def, b_scheme, 0, 75, 0]\r\n",
    "\r\n"
   ],
   "outputs": [],
   "metadata": {}
  },
  {
   "cell_type": "code",
   "execution_count": 33,
   "source": [
    "fw_mpr = model.predict([ model_A_predict ])[0]\r\n",
    "fw_mpr2 = model2.predict([ model_B_predict ])[0]\r\n",
    "mprf = modelf.predict([ modelf_predict ])[0]\r\n",
    "\r\n",
    "print(f\"Prediction Home: {fw_mpr}\")\r\n",
    "print(f\"Prediction Away: {fw_mpr2}\")\r\n",
    "print(f\"Prediction Full: {mprf[0]} - {mprf[1]}\")"
   ],
   "outputs": [
    {
     "output_type": "stream",
     "name": "stdout",
     "text": [
      "Prediction Home: 35.214752842083165\n",
      "Prediction Away: 13.49703740690876\n",
      "Prediction Full: 30.564223759053025 - 15.95542879098987\n"
     ]
    }
   ],
   "metadata": {}
  }
 ]
}