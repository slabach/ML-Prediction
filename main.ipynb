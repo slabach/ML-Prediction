{
 "metadata": {
  "language_info": {
   "codemirror_mode": {
    "name": "ipython",
    "version": 3
   },
   "file_extension": ".py",
   "mimetype": "text/x-python",
   "name": "python",
   "nbconvert_exporter": "python",
   "pygments_lexer": "ipython3",
   "version": "3.8.0-final"
  },
  "orig_nbformat": 2,
  "kernelspec": {
   "name": "python3",
   "display_name": "Python 3.8.0 32-bit",
   "metadata": {
    "interpreter": {
     "hash": "53a18d7535d738a8c53784bf3eded290d6f60d3d5931750418a7cff6088ed5e5"
    }
   }
  }
 },
 "nbformat": 4,
 "nbformat_minor": 2,
 "cells": [
  {
   "cell_type": "code",
   "execution_count": 22,
   "metadata": {},
   "outputs": [],
   "source": [
    "import math, datetime, json\n",
    "import pandas as pd\n",
    "import sklearn\n",
    "from sklearn import svm, preprocessing\n",
    "from sklearn.ensemble import RandomForestRegressor\n",
    "from sklearn.model_selection import train_test_split"
   ]
  },
  {
   "cell_type": "code",
   "execution_count": 23,
   "metadata": {},
   "outputs": [],
   "source": [
    "df = pd.read_json(\"gameData.json\", orient='records')\n",
    "\n",
    "df.drop_duplicates(subset=['game_id'], keep='last', inplace=True)"
   ]
  },
  {
   "cell_type": "code",
   "execution_count": 24,
   "metadata": {},
   "outputs": [],
   "source": [
    "X = df[['teamA_sval','teamA_off','teamB_sval','teamB_deff']]\n",
    "# X = preprocessing.scale(X)\n",
    "y = df['teamA_pts']\n",
    "\n",
    "X2 = df[['teamB_sval','teamB_off','teamA_sval','teamA_def']]\n",
    "# X2 = preprocessing.scale(X2)\n",
    "y2 = df['teamB_pts']\n",
    "\n",
    "X_train, X_test, y_train, y_test = train_test_split(X, y,random_state=64)\n",
    "X2_train, X2_test, y2_train, y2_test = train_test_split(X2, y2,random_state=64)"
   ]
  },
  {
   "cell_type": "code",
   "execution_count": 25,
   "metadata": {},
   "outputs": [
    {
     "output_type": "execute_result",
     "data": {
      "text/plain": [
       "RandomForestRegressor(criterion='mae', n_estimators=1000, random_state=64)"
      ]
     },
     "metadata": {},
     "execution_count": 25
    }
   ],
   "source": [
    "model = RandomForestRegressor(n_estimators=1000,random_state=64,criterion='mae')\n",
    "model.fit(X_train, y_train)\n",
    "\n",
    "model2 = RandomForestRegressor(n_estimators=1000,random_state=64,criterion='mae')\n",
    "model2.fit(X2_train, y2_train)"
   ]
  },
  {
   "cell_type": "code",
   "execution_count": 26,
   "metadata": {},
   "outputs": [
    {
     "output_type": "stream",
     "name": "stdout",
     "text": [
      "Model Score: 0.3990573019329152\nModel Score: 0.4506334142495564\n"
     ]
    }
   ],
   "source": [
    "print(f'Model Score: {model.score(X_test,y_test)}')\n",
    "print(f'Model Score: {model2.score(X2_test,y2_test)}')"
   ]
  },
  {
   "cell_type": "code",
   "execution_count": 81,
   "metadata": {},
   "outputs": [],
   "source": [
    "predict_num = 2\n",
    "\n",
    "a_ovr = 0.9229\n",
    "a_off = 0.9651\n",
    "a_def = 0.9097\n",
    "\n",
    "b_ovr = 0.9049\n",
    "b_off = 0.9513\n",
    "b_def = 0.8941\n",
    "\n",
    "if predict_num == 1:\n",
    "    modelA_predict = [a_ovr, a_off, b_ovr, b_def]\n",
    "    modelB_predict = [b_ovr, b_off, a_ovr, a_def]\n",
    "else:\n",
    "    modelA_predict = [b_ovr, b_off, a_ovr, a_def]\n",
    "    modelB_predict = [a_ovr, a_off, b_ovr, b_def]"
   ]
  },
  {
   "cell_type": "code",
   "execution_count": 82,
   "metadata": {},
   "outputs": [
    {
     "output_type": "stream",
     "name": "stdout",
     "text": [
      "Prediction: 36.416 - 37.941\n"
     ]
    }
   ],
   "source": [
    "mpr = model.predict([ modelA_predict ])[0]\n",
    "mpr2 = model2.predict([ modelB_predict ])[0]\n",
    "\n",
    "if predict_num == 1:\n",
    "    print(f\"Prediction: {mpr} - {mpr2}\")\n",
    "else:\n",
    "    print(f\"Prediction: {mpr2} - {mpr}\")"
   ]
  }
 ]
}